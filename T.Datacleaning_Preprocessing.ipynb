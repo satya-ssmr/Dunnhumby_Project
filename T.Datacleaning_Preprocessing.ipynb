{
 "cells": [
  {
   "cell_type": "markdown",
   "source": [
    "### <span style=\"color:#6A0DAD;\"> The purpose of this notebook is to clean the datasets and pre-process them for analysis."
   ],
   "metadata": {
    "collapsed": false
   },
   "id": "e85030c61ce461cb"
  },
  {
   "cell_type": "code",
   "execution_count": 1,
   "outputs": [],
   "source": [
    "# Import libraries for data analysis, visualisation \n",
    "import pandas as pd\n",
    "import matplotlib.pyplot as plt\n",
    "import seaborn as sns\n",
    "import numpy as np"
   ],
   "metadata": {
    "collapsed": false,
    "ExecuteTime": {
     "end_time": "2024-01-03T00:40:18.851815Z",
     "start_time": "2024-01-03T00:40:18.839817200Z"
    }
   },
   "id": "7577579dba2d7710"
  },
  {
   "cell_type": "code",
   "execution_count": null,
   "id": "cddfabc09e43ec23",
   "metadata": {
    "collapsed": false
   },
   "outputs": [],
   "source": [
    "# Load dataframes from CSVs\n",
    "transactions_data = pd.read_csv('transaction_data.csv')\n",
    "demographic_data = pd.read_csv('hh_demographic.csv')\n",
    "products_data = pd.read_csv('product.csv')\n",
    "campaigns_data = pd.read_csv('campaign_table.csv')\n",
    "camp_desc_data = pd.read_csv('campaign_desc.csv')\n",
    "coupons_data = pd.read_csv('coupon.csv')\n",
    "coupon_redempt_data = pd.read_csv('coupon_redempt.csv')"
   ]
  },
  {
   "cell_type": "code",
   "execution_count": null,
   "outputs": [],
   "source": [
    "\n",
    "# Print top rows of each dataframe  \n",
    "print(transactions_data.head())\n",
    "print(transactions_data.isnull().sum())"
   ],
   "metadata": {
    "collapsed": false
   },
   "id": "dfda859579e7c28b"
  },
  {
   "cell_type": "code",
   "execution_count": 15,
   "outputs": [
    {
     "name": "stdout",
     "output_type": "stream",
     "text": [
      "  AGE_DESC MARITAL_STATUS_CODE INCOME_DESC HOMEOWNER_DESC      HH_COMP_DESC  \\\n",
      "0      65+                   A      35-49K      Homeowner  2 Adults No Kids   \n",
      "1    45-54                   A      50-74K      Homeowner  2 Adults No Kids   \n",
      "2    25-34                   U      25-34K        Unknown     2 Adults Kids   \n",
      "3    25-34                   U      75-99K      Homeowner     2 Adults Kids   \n",
      "4    45-54                   B      50-74K      Homeowner     Single Female   \n",
      "\n",
      "  HOUSEHOLD_SIZE_DESC KID_CATEGORY_DESC  household_key  \n",
      "0                   2      None/Unknown              1  \n",
      "1                   2      None/Unknown              7  \n",
      "2                   3                 1              8  \n",
      "3                   4                 2             13  \n",
      "4                   1      None/Unknown             16  \n",
      "AGE_DESC               0\n",
      "MARITAL_STATUS_CODE    0\n",
      "INCOME_DESC            0\n",
      "HOMEOWNER_DESC         0\n",
      "HH_COMP_DESC           0\n",
      "HOUSEHOLD_SIZE_DESC    0\n",
      "KID_CATEGORY_DESC      0\n",
      "household_key          0\n",
      "dtype: int64\n",
      "<class 'pandas.core.frame.DataFrame'>\n",
      "RangeIndex: 801 entries, 0 to 800\n",
      "Data columns (total 8 columns):\n",
      " #   Column               Non-Null Count  Dtype \n",
      "---  ------               --------------  ----- \n",
      " 0   AGE_DESC             801 non-null    object\n",
      " 1   MARITAL_STATUS_CODE  801 non-null    object\n",
      " 2   INCOME_DESC          801 non-null    object\n",
      " 3   HOMEOWNER_DESC       801 non-null    object\n",
      " 4   HH_COMP_DESC         801 non-null    object\n",
      " 5   HOUSEHOLD_SIZE_DESC  801 non-null    object\n",
      " 6   KID_CATEGORY_DESC    801 non-null    object\n",
      " 7   household_key        801 non-null    int64 \n",
      "dtypes: int64(1), object(7)\n",
      "memory usage: 50.2+ KB\n",
      "None\n"
     ]
    }
   ],
   "source": [
    "print(demographic_data.head())\n",
    "print(demographic_data.isnull().sum())\n",
    "print(demographic_data.info())"
   ],
   "metadata": {
    "collapsed": false,
    "ExecuteTime": {
     "end_time": "2024-01-03T01:48:45.519861100Z",
     "start_time": "2024-01-03T01:48:45.509237600Z"
    }
   },
   "id": "5297bee34ccd8ec5"
  },
  {
   "cell_type": "code",
   "execution_count": 3,
   "outputs": [
    {
     "name": "stdout",
     "output_type": "stream",
     "text": [
      "   household_key    BASKET_ID  DAY  PRODUCT_ID  QUANTITY  SALES_VALUE  \\\n",
      "0           2375  26984851472    1     1004906         1         1.39   \n",
      "1           2375  26984851472    1     1033142         1         0.82   \n",
      "2           2375  26984851472    1     1036325         1         0.99   \n",
      "3           2375  26984851472    1     1082185         1         1.21   \n",
      "4           2375  26984851472    1     8160430         1         1.50   \n",
      "\n",
      "   STORE_ID  RETAIL_DISC  TRANS_TIME  WEEK_NO  COUPON_DISC  COUPON_MATCH_DISC  \n",
      "0       364        -0.60        1631        1          0.0                0.0  \n",
      "1       364         0.00        1631        1          0.0                0.0  \n",
      "2       364        -0.30        1631        1          0.0                0.0  \n",
      "3       364         0.00        1631        1          0.0                0.0  \n",
      "4       364        -0.39        1631        1          0.0                0.0  \n",
      "  AGE_DESC MARITAL_STATUS_CODE INCOME_DESC HOMEOWNER_DESC      HH_COMP_DESC  \\\n",
      "0      65+                   A      35-49K      Homeowner  2 Adults No Kids   \n",
      "1    45-54                   A      50-74K      Homeowner  2 Adults No Kids   \n",
      "2    25-34                   U      25-34K        Unknown     2 Adults Kids   \n",
      "3    25-34                   U      75-99K      Homeowner     2 Adults Kids   \n",
      "4    45-54                   B      50-74K      Homeowner     Single Female   \n",
      "\n",
      "  HOUSEHOLD_SIZE_DESC KID_CATEGORY_DESC  household_key  \n",
      "0                   2      None/Unknown              1  \n",
      "1                   2      None/Unknown              7  \n",
      "2                   3                 1              8  \n",
      "3                   4                 2             13  \n",
      "4                   1      None/Unknown             16  \n",
      "   PRODUCT_ID  MANUFACTURER    DEPARTMENT     BRAND            COMMODITY_DESC  \\\n",
      "0       25671             2       GROCERY  National                  FRZN ICE   \n",
      "1       26081             2  MISC. TRANS.  National  NO COMMODITY DESCRIPTION   \n",
      "2       26093            69        PASTRY   Private                     BREAD   \n",
      "3       26190            69       GROCERY   Private      FRUIT - SHELF STABLE   \n",
      "4       26355            69       GROCERY   Private             COOKIES/CONES   \n",
      "\n",
      "            SUB_COMMODITY_DESC CURR_SIZE_OF_PRODUCT  \n",
      "0          ICE - CRUSHED/CUBED                22 LB  \n",
      "1  NO SUBCOMMODITY DESCRIPTION                       \n",
      "2         BREAD:ITALIAN/FRENCH                       \n",
      "3                  APPLE SAUCE                50 OZ  \n",
      "4            SPECIALTY COOKIES                14 OZ  \n",
      "  DESCRIPTION  household_key  CAMPAIGN\n",
      "0       TypeA             17        26\n",
      "1       TypeA             27        26\n",
      "2       TypeA            212        26\n",
      "3       TypeA            208        26\n",
      "4       TypeA            192        26\n",
      "  DESCRIPTION  CAMPAIGN  START_DAY  END_DAY\n",
      "0       TypeB        24        659      719\n",
      "1       TypeC        15        547      708\n",
      "2       TypeB        25        659      691\n",
      "3       TypeC        20        615      685\n",
      "4       TypeB        23        646      684\n",
      "    COUPON_UPC  PRODUCT_ID  CAMPAIGN\n",
      "0  10000089061       27160         4\n",
      "1  10000089064       27754         9\n",
      "2  10000089073       28897        12\n",
      "3  51800009050       28919        28\n",
      "4  52100000076       28929        25\n",
      "   household_key  DAY   COUPON_UPC  CAMPAIGN\n",
      "0              1  421  10000085364         8\n",
      "1              1  421  51700010076         8\n",
      "2              1  427  54200000033         8\n",
      "3              1  597  10000085476        18\n",
      "4              1  597  54200029176        18\n"
     ]
    }
   ],
   "source": [
    "print(products_data.head())\n",
    "print(campaigns_data.head())\n",
    "print(camp_desc_data.head())\n",
    "print(coupons_data.head())\n",
    "print(coupon_redempt_data.head())"
   ],
   "metadata": {
    "collapsed": false,
    "ExecuteTime": {
     "end_time": "2024-01-03T00:40:35.577960200Z",
     "start_time": "2024-01-03T00:40:35.564924300Z"
    }
   },
   "id": "933e26ca4af1cf9f"
  },
  {
   "cell_type": "code",
   "execution_count": 5,
   "outputs": [
    {
     "name": "stdout",
     "output_type": "stream",
     "text": [
      "<class 'pandas.core.frame.DataFrame'>\n",
      "RangeIndex: 2595732 entries, 0 to 2595731\n",
      "Data columns (total 12 columns):\n",
      " #   Column             Dtype  \n",
      "---  ------             -----  \n",
      " 0   household_key      int64  \n",
      " 1   BASKET_ID          int64  \n",
      " 2   DAY                int64  \n",
      " 3   PRODUCT_ID         int64  \n",
      " 4   QUANTITY           int64  \n",
      " 5   SALES_VALUE        float64\n",
      " 6   STORE_ID           int64  \n",
      " 7   RETAIL_DISC        float64\n",
      " 8   TRANS_TIME         int64  \n",
      " 9   WEEK_NO            int64  \n",
      " 10  COUPON_DISC        float64\n",
      " 11  COUPON_MATCH_DISC  float64\n",
      "dtypes: float64(4), int64(8)\n",
      "memory usage: 237.6 MB\n",
      "None\n",
      "<class 'pandas.core.frame.DataFrame'>\n",
      "RangeIndex: 801 entries, 0 to 800\n",
      "Data columns (total 8 columns):\n",
      " #   Column               Non-Null Count  Dtype \n",
      "---  ------               --------------  ----- \n",
      " 0   AGE_DESC             801 non-null    object\n",
      " 1   MARITAL_STATUS_CODE  801 non-null    object\n",
      " 2   INCOME_DESC          801 non-null    object\n",
      " 3   HOMEOWNER_DESC       801 non-null    object\n",
      " 4   HH_COMP_DESC         801 non-null    object\n",
      " 5   HOUSEHOLD_SIZE_DESC  801 non-null    object\n",
      " 6   KID_CATEGORY_DESC    801 non-null    object\n",
      " 7   household_key        801 non-null    int64 \n",
      "dtypes: int64(1), object(7)\n",
      "memory usage: 50.2+ KB\n",
      "None\n",
      "<class 'pandas.core.frame.DataFrame'>\n",
      "RangeIndex: 92353 entries, 0 to 92352\n",
      "Data columns (total 7 columns):\n",
      " #   Column                Non-Null Count  Dtype \n",
      "---  ------                --------------  ----- \n",
      " 0   PRODUCT_ID            92353 non-null  int64 \n",
      " 1   MANUFACTURER          92353 non-null  int64 \n",
      " 2   DEPARTMENT            92353 non-null  object\n",
      " 3   BRAND                 92353 non-null  object\n",
      " 4   COMMODITY_DESC        92353 non-null  object\n",
      " 5   SUB_COMMODITY_DESC    92353 non-null  object\n",
      " 6   CURR_SIZE_OF_PRODUCT  92353 non-null  object\n",
      "dtypes: int64(2), object(5)\n",
      "memory usage: 4.9+ MB\n",
      "None\n",
      "<class 'pandas.core.frame.DataFrame'>\n",
      "RangeIndex: 7208 entries, 0 to 7207\n",
      "Data columns (total 3 columns):\n",
      " #   Column         Non-Null Count  Dtype \n",
      "---  ------         --------------  ----- \n",
      " 0   DESCRIPTION    7208 non-null   object\n",
      " 1   household_key  7208 non-null   int64 \n",
      " 2   CAMPAIGN       7208 non-null   int64 \n",
      "dtypes: int64(2), object(1)\n",
      "memory usage: 169.1+ KB\n",
      "None\n",
      "<class 'pandas.core.frame.DataFrame'>\n",
      "RangeIndex: 30 entries, 0 to 29\n",
      "Data columns (total 4 columns):\n",
      " #   Column       Non-Null Count  Dtype \n",
      "---  ------       --------------  ----- \n",
      " 0   DESCRIPTION  30 non-null     object\n",
      " 1   CAMPAIGN     30 non-null     int64 \n",
      " 2   START_DAY    30 non-null     int64 \n",
      " 3   END_DAY      30 non-null     int64 \n",
      "dtypes: int64(3), object(1)\n",
      "memory usage: 1.1+ KB\n",
      "None\n",
      "<class 'pandas.core.frame.DataFrame'>\n",
      "RangeIndex: 124548 entries, 0 to 124547\n",
      "Data columns (total 3 columns):\n",
      " #   Column      Non-Null Count   Dtype\n",
      "---  ------      --------------   -----\n",
      " 0   COUPON_UPC  124548 non-null  int64\n",
      " 1   PRODUCT_ID  124548 non-null  int64\n",
      " 2   CAMPAIGN    124548 non-null  int64\n",
      "dtypes: int64(3)\n",
      "memory usage: 2.9 MB\n",
      "None\n",
      "<class 'pandas.core.frame.DataFrame'>\n",
      "RangeIndex: 2318 entries, 0 to 2317\n",
      "Data columns (total 4 columns):\n",
      " #   Column         Non-Null Count  Dtype\n",
      "---  ------         --------------  -----\n",
      " 0   household_key  2318 non-null   int64\n",
      " 1   DAY            2318 non-null   int64\n",
      " 2   COUPON_UPC     2318 non-null   int64\n",
      " 3   CAMPAIGN       2318 non-null   int64\n",
      "dtypes: int64(4)\n",
      "memory usage: 72.6 KB\n",
      "None\n"
     ]
    }
   ],
   "source": [
    "\n",
    "# Print datatype info for transactions dataframe\n",
    "print(transactions_data.info())\n",
    "print(demographic_data.info())\n",
    "print(products_data.info())\n",
    "print(campaigns_data.info())\n",
    "print(camp_desc_data.info())\n",
    "print(coupons_data.info())\n",
    "print(coupon_redempt_data.info())"
   ],
   "metadata": {
    "collapsed": true,
    "ExecuteTime": {
     "end_time": "2024-01-03T00:41:09.932706400Z",
     "start_time": "2024-01-03T00:41:09.902178300Z"
    }
   },
   "id": "initial_id"
  },
  {
   "cell_type": "markdown",
   "source": [
    "### <span style=\"color:#6A0DAD;\"> Data Cleaning Methodology\n",
    "### <span style=\"color:#6A0DAD;\"> Step 1: Handling Missing Values\n",
    "###### <span style=\"color:#6A0DAD;\"> Removing Empty stings and null values based on their impact on the analysis"
   ],
   "metadata": {
    "collapsed": false
   },
   "id": "b59bcb31ccb971c5"
  },
  {
   "cell_type": "code",
   "execution_count": null,
   "outputs": [],
   "source": [
    "empty_counts = {}\n",
    "\n",
    "for col in products_data.columns:\n",
    "\n",
    "    # Initialize count for each column\n",
    "    count = 0\n",
    "\n",
    "    for val in products_data[col]:\n",
    "\n",
    "        # Check if value is string\n",
    "        if isinstance(val, str):\n",
    "\n",
    "            # Strip whitespace and check for empty\n",
    "            if not val.strip():\n",
    "\n",
    "                # Increment count\n",
    "                count += 1\n",
    "\n",
    "    # Save count for column  \n",
    "    empty_counts[col] = count\n",
    "\n",
    "# Print results  \n",
    "print(empty_counts)"
   ],
   "metadata": {
    "collapsed": false
   },
   "id": "e9ee14ee5ae85a4c"
  },
  {
   "cell_type": "markdown",
   "source": [
    "###### <span style=\"color:#6A0DAD;\"> drop rows with empty strings; Since there aren't many empty rows, we can eliminate them  "
   ],
   "metadata": {
    "collapsed": false
   },
   "id": "c11d848ccf7e4359"
  },
  {
   "cell_type": "code",
   "execution_count": 105,
   "outputs": [
    {
     "name": "stdout",
     "output_type": "stream",
     "text": [
      "{'PRODUCT_ID': 0, 'MANUFACTURER': 0, 'DEPARTMENT': 0, 'BRAND': 0, 'COMMODITY_DESC': 0, 'SUB_COMMODITY_DESC': 0}\n"
     ]
    }
   ],
   "source": [
    "# Columns to check for empty strings\n",
    "columns_to_check = ['DEPARTMENT', 'COMMODITY_DESC']  \n",
    "\n",
    "# Dropping rows where any of the specified columns have empty strings\n",
    "products_data = products_data[~products_data[columns_to_check].apply(lambda x: x.str.strip()).eq('').any(axis=1)]\n",
    "print(empty_counts)\n"
   ],
   "metadata": {
    "collapsed": false,
    "ExecuteTime": {
     "end_time": "2023-12-29T16:52:33.387554100Z",
     "start_time": "2023-12-29T16:52:33.314461900Z"
    }
   },
   "id": "847e01a616373bbb"
  },
  {
   "cell_type": "markdown",
   "source": [
    "###### <span style=\"color:#6A0DAD;\"> This column doesn't have any impact on our analysis. On top of that 30% of the values in this column are missing."
   ],
   "metadata": {
    "collapsed": false
   },
   "id": "916e4cc8c99c34c2"
  },
  {
   "cell_type": "code",
   "execution_count": 106,
   "outputs": [],
   "source": [
    "column_to_drop = 'CURR_SIZE_OF_PRODUCT'  # Replace with your actual column name\n",
    "# Dropping the column\n",
    "products_data.drop(column_to_drop, axis=1, inplace=True)"
   ],
   "metadata": {
    "collapsed": false,
    "ExecuteTime": {
     "end_time": "2023-12-29T16:52:46.065655200Z",
     "start_time": "2023-12-29T16:52:46.058626500Z"
    }
   },
   "id": "6d0aacd8a0f538be"
  },
  {
   "cell_type": "markdown",
   "source": [
    "###### <span style=\"color:#6A0DAD;\"> This function counts the empty strings in every column of all the datasets."
   ],
   "metadata": {
    "collapsed": false
   },
   "id": "7090d1d1c7c3fb38"
  },
  {
   "cell_type": "code",
   "execution_count": 107,
   "outputs": [
    {
     "name": "stdout",
     "output_type": "stream",
     "text": [
      "Empty string counts in Products Data: {'PRODUCT_ID': 0, 'MANUFACTURER': 0, 'DEPARTMENT': 0, 'BRAND': 0, 'COMMODITY_DESC': 0, 'SUB_COMMODITY_DESC': 0}\n",
      "Empty string counts in Customers Data: {'household_key': 0, 'BASKET_ID': 0, 'DAY': 0, 'PRODUCT_ID': 0, 'QUANTITY': 0, 'SALES_VALUE': 0, 'STORE_ID': 0, 'RETAIL_DISC': 0, 'TRANS_TIME': 0, 'WEEK_NO': 0, 'COUPON_DISC': 0, 'COUPON_MATCH_DISC': 0}\n",
      "Empty string counts in Sales Data: {'AGE_DESC': 0, 'MARITAL_STATUS_CODE': 0, 'INCOME_DESC': 0, 'HOMEOWNER_DESC': 0, 'HH_COMP_DESC': 0, 'HOUSEHOLD_SIZE_DESC': 0, 'KID_CATEGORY_DESC': 0, 'household_key': 0}\n",
      "Empty string counts in Campaigns Data: {'DESCRIPTION': 0, 'household_key': 0, 'CAMPAIGN': 0}\n",
      "Empty string counts in Campaigns_desc: {'DESCRIPTION': 0, 'CAMPAIGN': 0, 'START_DAY': 0, 'END_DAY': 0}\n",
      "Empty string counts in Coupons: {'COUPON_UPC': 0, 'PRODUCT_ID': 0, 'CAMPAIGN': 0}\n",
      "Empty string counts in Coupons_redemtions: {'household_key': 0, 'DAY': 0, 'COUPON_UPC': 0, 'CAMPAIGN': 0}\n"
     ]
    }
   ],
   "source": [
    "def count_empty_strings(df):\n",
    "    empty_counts = {}\n",
    "    for col in df.columns:\n",
    "        empty_counts[col] = (df[col].apply(lambda x: x.strip() == '' if isinstance(x, str) else False)).sum()\n",
    "    return empty_counts\n",
    "\n",
    "empty_counts_products = count_empty_strings(products_data)\n",
    "empty_counts_transactions = count_empty_strings(transactions_data)\n",
    "empty_counts_demographic = count_empty_strings(demographic_data)\n",
    "empty_counts_campaigns = count_empty_strings(campaigns_data)\n",
    "empty_counts_campaign_desc = count_empty_strings(camp_desc_data)\n",
    "empty_counts_coupons = count_empty_strings(coupons_data)\n",
    "empty_counts_redemptions = count_empty_strings(coupon_redempt_data)\n",
    "# Print results\n",
    "print(\"Empty string counts in Products Data:\", empty_counts_products)\n",
    "print(\"Empty string counts in Customers Data:\", empty_counts_transactions)\n",
    "print(\"Empty string counts in Sales Data:\", empty_counts_demographic)\n",
    "print(\"Empty string counts in Campaigns Data:\", empty_counts_campaigns)\n",
    "print(\"Empty string counts in Campaigns_desc:\", empty_counts_campaign_desc)\n",
    "print(\"Empty string counts in Coupons:\", empty_counts_coupons)\n",
    "print(\"Empty string counts in Coupons_redemtions:\", empty_counts_redemptions)\n"
   ],
   "metadata": {
    "collapsed": false,
    "ExecuteTime": {
     "end_time": "2023-12-29T16:53:02.208996300Z",
     "start_time": "2023-12-29T16:52:56.632477300Z"
    }
   },
   "id": "f00cd1190dac2f72"
  },
  {
   "cell_type": "markdown",
   "source": [
    "###### <span style=\"color:#6A0DAD;\"> This function counts the empty int values in every column of all the datasets."
   ],
   "metadata": {
    "collapsed": false
   },
   "id": "12a4b9cbd958ea4a"
  },
  {
   "cell_type": "code",
   "execution_count": 104,
   "outputs": [
    {
     "name": "stdout",
     "output_type": "stream",
     "text": [
      "Missing numerical data counts in Products Data: {'PRODUCT_ID': 0, 'MANUFACTURER': 0}\n",
      "Missing numerical data counts in Customers Data: {'household_key': 0, 'BASKET_ID': 0, 'DAY': 0, 'PRODUCT_ID': 0, 'QUANTITY': 0, 'SALES_VALUE': 0, 'STORE_ID': 0, 'RETAIL_DISC': 0, 'TRANS_TIME': 0, 'WEEK_NO': 0, 'COUPON_DISC': 0, 'COUPON_MATCH_DISC': 0}\n",
      "Missing numerical data counts in Sales Data: {'household_key': 0}\n"
     ]
    }
   ],
   "source": [
    "def count_missing_numerical(df):\n",
    "    missing_counts = {}\n",
    "    for col in df.columns:\n",
    "        # Check if the column is of a numeric datatype\n",
    "        if pd.api.types.is_numeric_dtype(df[col]):\n",
    "            missing_counts[col] = df[col].isna().sum()\n",
    "    return missing_counts\n",
    "\n",
    "# Apply the function to each DataFrame\n",
    "missing_counts_products = count_missing_numerical(products_data)\n",
    "missing_counts_customers = count_missing_numerical(transactions_data)\n",
    "missing_counts_sales = count_missing_numerical(demographic_data)\n",
    "\n",
    "# Print results\n",
    "print(\"Missing numerical data counts in Products Data:\", missing_counts_products)\n",
    "print(\"Missing numerical data counts in Customers Data:\", missing_counts_customers)\n",
    "print(\"Missing numerical data counts in Sales Data:\", missing_counts_sales)\n"
   ],
   "metadata": {
    "collapsed": false,
    "ExecuteTime": {
     "end_time": "2023-12-29T16:52:11.405577900Z",
     "start_time": "2023-12-29T16:52:11.351670900Z"
    }
   },
   "id": "8f91e320f1a0715a"
  },
  {
   "cell_type": "code",
   "execution_count": 117,
   "outputs": [
    {
     "name": "stdout",
     "output_type": "stream",
     "text": [
      "household_key                 0\n",
      "BASKET_ID                     0\n",
      "DAY                           0\n",
      "PRODUCT_ID                    0\n",
      "QUANTITY                      0\n",
      "SALES_VALUE                   0\n",
      "STORE_ID                      0\n",
      "RETAIL_DISC                   0\n",
      "TRANS_TIME                    0\n",
      "WEEK_NO                       0\n",
      "COUPON_DISC                   0\n",
      "COUPON_MATCH_DISC             0\n",
      "Loyalty_card_price        14466\n",
      "Non_loyalty_card_price    14466\n",
      "dtype: int64\n",
      "AGE_DESC               801\n",
      "MARITAL_STATUS_CODE    801\n",
      "INCOME_DESC            801\n",
      "HOMEOWNER_DESC         801\n",
      "HH_COMP_DESC           801\n",
      "HOUSEHOLD_SIZE_DESC    801\n",
      "KID_CATEGORY_DESC      801\n",
      "household_key          801\n",
      "dtype: int64\n",
      "PRODUCT_ID            0\n",
      "MANUFACTURER          0\n",
      "DEPARTMENT            0\n",
      "BRAND                 0\n",
      "COMMODITY_DESC        0\n",
      "SUB_COMMODITY_DESC    0\n",
      "dtype: int64\n",
      "DESCRIPTION      0\n",
      "household_key    0\n",
      "CAMPAIGN         0\n",
      "dtype: int64\n",
      "DESCRIPTION    0\n",
      "CAMPAIGN       0\n",
      "START_DAY      0\n",
      "END_DAY        0\n",
      "dtype: int64\n",
      "COUPON_UPC    0\n",
      "PRODUCT_ID    0\n",
      "CAMPAIGN      0\n",
      "dtype: int64\n",
      "household_key    0\n",
      "DAY              0\n",
      "COUPON_UPC       0\n",
      "CAMPAIGN         0\n",
      "dtype: int64\n"
     ]
    }
   ],
   "source": [
    "#Checking and counting for null\n",
    "print(transactions_data.isnull().sum())\n",
    "print(demographic_data.isnull().count())\n",
    "\n",
    "print(products_data.isnull().sum())\n",
    "\n",
    "print(campaigns_data.isnull().sum())\n",
    "print(camp_desc_data.isnull().sum())\n",
    "print(coupons_data.isnull().sum())\n",
    "print(coupon_redempt_data.isnull().sum())\n"
   ],
   "metadata": {
    "collapsed": false,
    "ExecuteTime": {
     "end_time": "2023-12-29T17:41:55.191588800Z",
     "start_time": "2023-12-29T17:41:55.122209Z"
    }
   },
   "id": "72800e0d1a312c21"
  },
  {
   "cell_type": "code",
   "execution_count": 113,
   "outputs": [
    {
     "name": "stdout",
     "output_type": "stream",
     "text": [
      "   household_key    BASKET_ID  DAY  PRODUCT_ID  QUANTITY  SALES_VALUE  \\\n",
      "0           2375  26984851472    1     1004906         1         1.39   \n",
      "1           2375  26984851472    1     1033142         1         0.82   \n",
      "2           2375  26984851472    1     1036325         1         0.99   \n",
      "3           2375  26984851472    1     1082185         1         1.21   \n",
      "4           2375  26984851472    1     8160430         1         1.50   \n",
      "\n",
      "   STORE_ID  RETAIL_DISC  TRANS_TIME  WEEK_NO  COUPON_DISC  COUPON_MATCH_DISC  \\\n",
      "0       364        -0.60        1631        1          0.0                0.0   \n",
      "1       364         0.00        1631        1          0.0                0.0   \n",
      "2       364        -0.30        1631        1          0.0                0.0   \n",
      "3       364         0.00        1631        1          0.0                0.0   \n",
      "4       364        -0.39        1631        1          0.0                0.0   \n",
      "\n",
      "   Loyalty_card_price  Non_loyalty_card_price  \n",
      "0                0.79                    1.39  \n",
      "1                0.82                    0.82  \n",
      "2                0.69                    0.99  \n",
      "3                1.21                    1.21  \n",
      "4                1.11                    1.50  \n",
      "         household_key    BASKET_ID  DAY  PRODUCT_ID  QUANTITY  SALES_VALUE  \\\n",
      "2595727           1598  42305362535  711       92130         1         0.99   \n",
      "2595728           1598  42305362535  711      114102         1         8.89   \n",
      "2595729           1598  42305362535  711      133449         1         6.99   \n",
      "2595730           1598  42305362535  711     6923644         1         4.50   \n",
      "2595731           1598  42305362535  711    14055192         1         6.99   \n",
      "\n",
      "         STORE_ID  RETAIL_DISC  TRANS_TIME  WEEK_NO  COUPON_DISC  \\\n",
      "2595727      3228         0.00        1520      102          0.0   \n",
      "2595728      3228         0.00        1520      102          0.0   \n",
      "2595729      3228         0.00        1520      102          0.0   \n",
      "2595730      3228        -0.49        1520      102          0.0   \n",
      "2595731      3228         0.00        1520      102          0.0   \n",
      "\n",
      "         COUPON_MATCH_DISC  Loyalty_card_price  Non_loyalty_card_price  \n",
      "2595727                0.0                0.99                    0.99  \n",
      "2595728                0.0                8.89                    8.89  \n",
      "2595729                0.0                6.99                    6.99  \n",
      "2595730                0.0                4.01                    4.50  \n",
      "2595731                0.0                6.99                    6.99  \n"
     ]
    }
   ],
   "source": [
    "transactions_data['Loyalty_card_price'] = (transactions_data['SALES_VALUE'] + (transactions_data['RETAIL_DISC'] + transactions_data['COUPON_DISC'])) / transactions_data['QUANTITY']\n",
    "transactions_data['Non_loyalty_card_price'] = (transactions_data['SALES_VALUE'] + transactions_data['COUPON_DISC']) / transactions_data['QUANTITY']\n",
    "\n",
    "print(transactions_data.head())\n",
    "print(transactions_data.tail())"
   ],
   "metadata": {
    "collapsed": false,
    "ExecuteTime": {
     "end_time": "2023-12-29T17:28:41.562598600Z",
     "start_time": "2023-12-29T17:28:41.497939Z"
    }
   },
   "id": "f93ca7ce465901a4"
  },
  {
   "cell_type": "code",
   "execution_count": 115,
   "outputs": [
    {
     "name": "stdout",
     "output_type": "stream",
     "text": [
      "   household_key    BASKET_ID  DAY  PRODUCT_ID  QUANTITY  SALES_VALUE  \\\n",
      "0           2375  26984851472    1     1004906         1         1.39   \n",
      "1           2375  26984851472    1     1033142         1         0.82   \n",
      "2           2375  26984851472    1     1036325         1         0.99   \n",
      "3           2375  26984851472    1     1082185         1         1.21   \n",
      "4           2375  26984851472    1     8160430         1         1.50   \n",
      "\n",
      "   STORE_ID  RETAIL_DISC  TRANS_TIME  WEEK_NO  COUPON_DISC  COUPON_MATCH_DISC  \\\n",
      "0       364        -0.60        1631        1          0.0                0.0   \n",
      "1       364         0.00        1631        1          0.0                0.0   \n",
      "2       364        -0.30        1631        1          0.0                0.0   \n",
      "3       364         0.00        1631        1          0.0                0.0   \n",
      "4       364        -0.39        1631        1          0.0                0.0   \n",
      "\n",
      "   Loyalty_card_price  Non_loyalty_card_price  \n",
      "0                0.79                    1.39  \n",
      "1                0.82                    0.82  \n",
      "2                0.69                    0.99  \n",
      "3                1.21                    1.21  \n",
      "4                1.11                    1.50  \n"
     ]
    }
   ],
   "source": [
    "transactions_data['Loyalty_card_price'] = transactions_data['Loyalty_card_price'].replace([np.inf, -np.inf], np.nan)\n",
    "transactions_data['Non_loyalty_card_price'] = transactions_data['Non_loyalty_card_price'].replace([np.inf, -np.inf], np.nan)\n",
    "print(transactions_data.head())"
   ],
   "metadata": {
    "collapsed": false,
    "ExecuteTime": {
     "end_time": "2023-12-29T17:33:38.073236700Z",
     "start_time": "2023-12-29T17:33:37.985327700Z"
    }
   },
   "id": "192a3755c6ec10c5"
  },
  {
   "cell_type": "markdown",
   "source": [
    "###### <span style=\"color:#6A0DAD;\">It is important to know how much each household is spending per transaction or per Basket, as we can later on build upon this to more granular analysis by demographics and product data"
   ],
   "metadata": {
    "collapsed": false
   },
   "id": "afeee5144ad429b"
  },
  {
   "cell_type": "code",
   "execution_count": 119,
   "outputs": [],
   "source": [
    "special_cases = transactions_data[transactions_data['QUANTITY'] == 0]\n",
    "main_analysis = transactions_data[transactions_data['QUANTITY'] != 0]\n",
    "special_cases.to_csv('special_cases.csv', index=False)\n",
    "main_analysis.to_csv('main_analysis.csv', index=False)\n"
   ],
   "metadata": {
    "collapsed": false,
    "ExecuteTime": {
     "end_time": "2023-12-29T17:57:10.039097200Z",
     "start_time": "2023-12-29T17:56:56.480472100Z"
    }
   },
   "id": "23727f703088c940"
  },
  {
   "cell_type": "code",
   "execution_count": 120,
   "outputs": [
    {
     "name": "stdout",
     "output_type": "stream",
     "text": [
      "   household_key    BASKET_ID  DAY  PRODUCT_ID  QUANTITY  SALES_VALUE  \\\n",
      "0           2375  26984851472    1     1004906         1         1.39   \n",
      "1           2375  26984851472    1     1033142         1         0.82   \n",
      "2           2375  26984851472    1     1036325         1         0.99   \n",
      "3           2375  26984851472    1     1082185         1         1.21   \n",
      "4           2375  26984851472    1     8160430         1         1.50   \n",
      "\n",
      "   STORE_ID  RETAIL_DISC  TRANS_TIME  WEEK_NO  COUPON_DISC  COUPON_MATCH_DISC  \\\n",
      "0       364        -0.60        1631        1          0.0                0.0   \n",
      "1       364         0.00        1631        1          0.0                0.0   \n",
      "2       364        -0.30        1631        1          0.0                0.0   \n",
      "3       364         0.00        1631        1          0.0                0.0   \n",
      "4       364        -0.39        1631        1          0.0                0.0   \n",
      "\n",
      "   Loyalty_card_price  Non_loyalty_card_price  \n",
      "0                0.79                    1.39  \n",
      "1                0.82                    0.82  \n",
      "2                0.69                    0.99  \n",
      "3                1.21                    1.21  \n",
      "4                1.11                    1.50  \n",
      "Total rows after removing zero quantity: 2595732\n"
     ]
    }
   ],
   "source": [
    "transactions = transactions_data[transactions_data['QUANTITY'] != 0]\n",
    "print(transactions_data.head())\n",
    "print(\"Total rows after removing zero quantity:\", len(transactions_data))\n"
   ],
   "metadata": {
    "collapsed": false,
    "ExecuteTime": {
     "end_time": "2023-12-29T18:03:29.587042700Z",
     "start_time": "2023-12-29T18:03:29.404934100Z"
    }
   },
   "id": "bc8e49b1357770b8"
  },
  {
   "cell_type": "code",
   "execution_count": null,
   "outputs": [],
   "source": [
    "Total_sales_per_basket = transactions_data.groupby('BASKET_ID')['SALES_VALUE'].sum()\n",
    "print(avg_sales_per_basket)\n"
   ],
   "metadata": {
    "collapsed": false
   },
   "id": "3ba241ea0b7b0883"
  },
  {
   "cell_type": "code",
   "execution_count": null,
   "outputs": [],
   "source": [
    "merged = demographic_data.merge(transactions_data, on='household_key') \n",
    "spend_by_income = merged.groupby('INCOME_DESC')[ 'SALES_VALUE'].sum()\n",
    "print(spend_by_income)"
   ],
   "metadata": {
    "collapsed": false
   },
   "id": "ece12439f4f99a87"
  },
  {
   "cell_type": "markdown",
   "source": [
    "###### <span style=\"color:#6A0DAD;\">No of unique household_keys we have got the demographic data for. this is important to find out the most valuable customers"
   ],
   "metadata": {
    "collapsed": false
   },
   "id": "8ad383e69fe86082"
  },
  {
   "cell_type": "code",
   "execution_count": null,
   "outputs": [],
   "source": [
    "household_counts = merged.groupby('INCOME_DESC')['household_key'].nunique()\n",
    "print(household_counts)\n"
   ],
   "metadata": {
    "collapsed": false
   },
   "id": "e4e002968d148797"
  },
  {
   "cell_type": "code",
   "execution_count": null,
   "outputs": [],
   "source": [
    "household_counts.plot(kind='bar')\n",
    "plt.title('Households by Income Description')\n",
    "plt.xlabel('Income Description')\n",
    "plt.ylabel('Household Count')\n",
    "plt.show()\n",
    "#This gives us a bar graph that displays the household_count by income description"
   ],
   "metadata": {
    "collapsed": false
   },
   "id": "f530595db307133e"
  },
  {
   "cell_type": "code",
   "execution_count": null,
   "outputs": [],
   "source": [
    "# Count transactions by income Description\n",
    "txns_by_income = merged.groupby('INCOME_DESC')['household_key'].count() \n",
    "\n",
    "# Plot bar chart\n",
    "txns_by_income.plot(kind='bar')\n",
    "plt.title('Transactions by Income Description')\n",
    "plt.xlabel('Income Description') \n",
    "plt.ylabel('Number of Transactions')\n",
    "plt.show()\n"
   ],
   "metadata": {
    "collapsed": false
   },
   "id": "25e233f8c238cb39"
  },
  {
   "cell_type": "markdown",
   "source": [
    "###### <span style=\"color:#6A0DAD;\">From the above visual, we can see that three income categories accounted for more than half the sales. This insight is important to look deeper into the product info on which categories were purchased by these customers the most. This digging gives insights to category and insights team  "
   ],
   "metadata": {
    "collapsed": false
   },
   "id": "4e4bd1cd73150bec"
  },
  {
   "cell_type": "code",
   "execution_count": null,
   "outputs": [],
   "source": [
    "merged = transactions_data.merge(products_data, on='PRODUCT_ID')\n"
   ],
   "metadata": {
    "collapsed": false
   },
   "id": "19331fad97bb054"
  },
  {
   "cell_type": "code",
   "execution_count": null,
   "outputs": [],
   "source": [
    "sales_by_category = merged.groupby('COMMODITY_DESC')['SALES_VALUE'].sum()\n"
   ],
   "metadata": {
    "collapsed": false
   },
   "id": "133cf329a43370d8"
  },
  {
   "cell_type": "code",
   "execution_count": null,
   "outputs": [],
   "source": [
    "top5 = (merged\n",
    "   .groupby('DEPARTMENT')['SALES_VALUE']\n",
    "   .sum()\n",
    "   .sort_values(ascending=False)\n",
    "   .head(10)\n",
    ")\n"
   ],
   "metadata": {
    "collapsed": false
   },
   "id": "6ad60e4b7d38f623"
  },
  {
   "cell_type": "code",
   "execution_count": null,
   "outputs": [],
   "source": [
    "print(top5)"
   ],
   "metadata": {
    "collapsed": false
   },
   "id": "cc4a8363a6deb6bd"
  },
  {
   "cell_type": "code",
   "execution_count": null,
   "outputs": [],
   "source": [],
   "metadata": {
    "collapsed": false
   },
   "id": "94f37127667ad913"
  }
 ],
 "metadata": {
  "kernelspec": {
   "display_name": "Python 3",
   "language": "python",
   "name": "python3"
  },
  "language_info": {
   "codemirror_mode": {
    "name": "ipython",
    "version": 2
   },
   "file_extension": ".py",
   "mimetype": "text/x-python",
   "name": "python",
   "nbconvert_exporter": "python",
   "pygments_lexer": "ipython2",
   "version": "2.7.6"
  }
 },
 "nbformat": 4,
 "nbformat_minor": 5
}
