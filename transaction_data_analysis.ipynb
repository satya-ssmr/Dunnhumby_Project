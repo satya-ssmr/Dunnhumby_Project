{
 "cells": [
  {
   "cell_type": "markdown",
   "source": [
    "# <span style=\"color:#00ff00;\"> Hello, This cell is all about importing the datasets to the dataframes and looking at the data. So that I can do analysis on it. "
   ],
   "metadata": {
    "collapsed": false
   },
   "id": "e85030c61ce461cb"
  },
  {
   "cell_type": "code",
   "execution_count": 35,
   "id": "initial_id",
   "metadata": {
    "collapsed": true,
    "ExecuteTime": {
     "end_time": "2023-12-25T16:07:34.514245500Z",
     "start_time": "2023-12-25T16:07:30.908226400Z"
    }
   },
   "outputs": [
    {
     "name": "stdout",
     "output_type": "stream",
     "text": [
      "   household_key    BASKET_ID  DAY  PRODUCT_ID  QUANTITY  SALES_VALUE  \\\n",
      "0           2375  26984851472    1     1004906         1         1.39   \n",
      "1           2375  26984851472    1     1033142         1         0.82   \n",
      "2           2375  26984851472    1     1036325         1         0.99   \n",
      "3           2375  26984851472    1     1082185         1         1.21   \n",
      "4           2375  26984851472    1     8160430         1         1.50   \n",
      "\n",
      "   STORE_ID  RETAIL_DISC  TRANS_TIME  WEEK_NO  COUPON_DISC  COUPON_MATCH_DISC  \n",
      "0       364        -0.60        1631        1          0.0                0.0  \n",
      "1       364         0.00        1631        1          0.0                0.0  \n",
      "2       364        -0.30        1631        1          0.0                0.0  \n",
      "3       364         0.00        1631        1          0.0                0.0  \n",
      "4       364        -0.39        1631        1          0.0                0.0  \n",
      "  AGE_DESC MARITAL_STATUS_CODE INCOME_DESC HOMEOWNER_DESC      HH_COMP_DESC  \\\n",
      "0      65+                   A      35-49K      Homeowner  2 Adults No Kids   \n",
      "1    45-54                   A      50-74K      Homeowner  2 Adults No Kids   \n",
      "2    25-34                   U      25-34K        Unknown     2 Adults Kids   \n",
      "3    25-34                   U      75-99K      Homeowner     2 Adults Kids   \n",
      "4    45-54                   B      50-74K      Homeowner     Single Female   \n",
      "\n",
      "  HOUSEHOLD_SIZE_DESC KID_CATEGORY_DESC  household_key  \n",
      "0                   2      None/Unknown              1  \n",
      "1                   2      None/Unknown              7  \n",
      "2                   3                 1              8  \n",
      "3                   4                 2             13  \n",
      "4                   1      None/Unknown             16  \n",
      "   PRODUCT_ID  MANUFACTURER    DEPARTMENT     BRAND            COMMODITY_DESC  \\\n",
      "0       25671             2       GROCERY  National                  FRZN ICE   \n",
      "1       26081             2  MISC. TRANS.  National  NO COMMODITY DESCRIPTION   \n",
      "2       26093            69        PASTRY   Private                     BREAD   \n",
      "3       26190            69       GROCERY   Private      FRUIT - SHELF STABLE   \n",
      "4       26355            69       GROCERY   Private             COOKIES/CONES   \n",
      "\n",
      "            SUB_COMMODITY_DESC CURR_SIZE_OF_PRODUCT  \n",
      "0          ICE - CRUSHED/CUBED                22 LB  \n",
      "1  NO SUBCOMMODITY DESCRIPTION                       \n",
      "2         BREAD:ITALIAN/FRENCH                       \n",
      "3                  APPLE SAUCE                50 OZ  \n",
      "4            SPECIALTY COOKIES                14 OZ  \n",
      "<class 'pandas.core.frame.DataFrame'>\n",
      "RangeIndex: 2595732 entries, 0 to 2595731\n",
      "Data columns (total 12 columns):\n",
      " #   Column             Dtype  \n",
      "---  ------             -----  \n",
      " 0   household_key      int64  \n",
      " 1   BASKET_ID          int64  \n",
      " 2   DAY                int64  \n",
      " 3   PRODUCT_ID         int64  \n",
      " 4   QUANTITY           int64  \n",
      " 5   SALES_VALUE        float64\n",
      " 6   STORE_ID           int64  \n",
      " 7   RETAIL_DISC        float64\n",
      " 8   TRANS_TIME         int64  \n",
      " 9   WEEK_NO            int64  \n",
      " 10  COUPON_DISC        float64\n",
      " 11  COUPON_MATCH_DISC  float64\n",
      "dtypes: float64(4), int64(8)\n",
      "memory usage: 237.6 MB\n",
      "None\n",
      "<class 'pandas.core.frame.DataFrame'>\n",
      "RangeIndex: 801 entries, 0 to 800\n",
      "Data columns (total 8 columns):\n",
      " #   Column               Non-Null Count  Dtype \n",
      "---  ------               --------------  ----- \n",
      " 0   AGE_DESC             801 non-null    object\n",
      " 1   MARITAL_STATUS_CODE  801 non-null    object\n",
      " 2   INCOME_DESC          801 non-null    object\n",
      " 3   HOMEOWNER_DESC       801 non-null    object\n",
      " 4   HH_COMP_DESC         801 non-null    object\n",
      " 5   HOUSEHOLD_SIZE_DESC  801 non-null    object\n",
      " 6   KID_CATEGORY_DESC    801 non-null    object\n",
      " 7   household_key        801 non-null    int64 \n",
      "dtypes: int64(1), object(7)\n",
      "memory usage: 50.2+ KB\n",
      "None\n",
      "<class 'pandas.core.frame.DataFrame'>\n",
      "RangeIndex: 92353 entries, 0 to 92352\n",
      "Data columns (total 7 columns):\n",
      " #   Column                Non-Null Count  Dtype \n",
      "---  ------                --------------  ----- \n",
      " 0   PRODUCT_ID            92353 non-null  int64 \n",
      " 1   MANUFACTURER          92353 non-null  int64 \n",
      " 2   DEPARTMENT            92353 non-null  object\n",
      " 3   BRAND                 92353 non-null  object\n",
      " 4   COMMODITY_DESC        92353 non-null  object\n",
      " 5   SUB_COMMODITY_DESC    92353 non-null  object\n",
      " 6   CURR_SIZE_OF_PRODUCT  92353 non-null  object\n",
      "dtypes: int64(2), object(5)\n",
      "memory usage: 4.9+ MB\n",
      "None\n"
     ]
    }
   ],
   "source": [
    "'''Simple, we can manipulate dataframes using pandas. dataframes are 2D arrays \n",
    "like spreadsheets or csv files. \n",
    "To perform the data analysis we must load the files or the datasets onto dataframes.\n",
    "Here I have created a dataframe called Reading_data_transaction.\n",
    " pd.read_csv() reads the file and loads it into a pandas dataframe Reading_data_transaction'''\n",
    "# Import pandas \n",
    "import pandas as pd\n",
    "\n",
    "# Load dataframes from CSVs\n",
    "transactions_data = pd.read_csv('transaction_data.csv')\n",
    "demographic_data = pd.read_csv('hh_demographic.csv')\n",
    "products_data = pd.read_csv('product.csv')\n",
    "\n",
    "# Print top rows of each dataframe  \n",
    "print(transactions_data.head())\n",
    "print(demographic_data.head())\n",
    "print(products_data.head())\n",
    "\n",
    "# Print datatype info for transactions dataframe\n",
    "print(transactions_data.info())\n",
    "print(demographic_data.info())\n",
    "print(products_data.info())\n",
    "\n",
    "# Print the count of null values"
   ]
  },
  {
   "cell_type": "markdown",
   "source": [
    "# <span style=\"color:black;\">  Checking if there is any null values in the dataframes and printing the output "
   ],
   "metadata": {
    "collapsed": false
   },
   "id": "288b76c1750f0036"
  },
  {
   "cell_type": "code",
   "execution_count": 40,
   "outputs": [
    {
     "name": "stdout",
     "output_type": "stream",
     "text": [
      "household_key        2595732\n",
      "BASKET_ID            2595732\n",
      "DAY                  2595732\n",
      "PRODUCT_ID           2595732\n",
      "QUANTITY             2595732\n",
      "SALES_VALUE          2595732\n",
      "STORE_ID             2595732\n",
      "RETAIL_DISC          2595732\n",
      "TRANS_TIME           2595732\n",
      "WEEK_NO              2595732\n",
      "COUPON_DISC          2595732\n",
      "COUPON_MATCH_DISC    2595732\n",
      "dtype: int64\n",
      "AGE_DESC               801\n",
      "MARITAL_STATUS_CODE    801\n",
      "INCOME_DESC            801\n",
      "HOMEOWNER_DESC         801\n",
      "HH_COMP_DESC           801\n",
      "HOUSEHOLD_SIZE_DESC    801\n",
      "KID_CATEGORY_DESC      801\n",
      "household_key          801\n",
      "dtype: int64\n",
      "PRODUCT_ID              92353\n",
      "MANUFACTURER            92353\n",
      "DEPARTMENT              92353\n",
      "BRAND                   92353\n",
      "COMMODITY_DESC          92353\n",
      "SUB_COMMODITY_DESC      92353\n",
      "CURR_SIZE_OF_PRODUCT    92353\n",
      "dtype: int64\n"
     ]
    }
   ],
   "source": [
    "#Checking and counting for null\n",
    "print(transactions_data.isnull().count())\n",
    "print(demographic_data.isnull().count())\n",
    "print((products_data.isnull().count()))"
   ],
   "metadata": {
    "collapsed": false,
    "ExecuteTime": {
     "end_time": "2023-12-25T16:29:25.305562900Z",
     "start_time": "2023-12-25T16:29:25.180171200Z"
    }
   },
   "id": "72800e0d1a312c21"
  },
  {
   "cell_type": "code",
   "execution_count": 13,
   "outputs": [
    {
     "name": "stdout",
     "output_type": "stream",
     "text": [
      "BASKET_ID\n",
      "26984851472     5.91\n",
      "26984851516    12.43\n",
      "26984896261    11.37\n",
      "26984905972     2.55\n",
      "26984945254     3.53\n",
      "               ...  \n",
      "42302712006     9.78\n",
      "42302712189    33.64\n",
      "42302712298    40.70\n",
      "42305362497     5.61\n",
      "42305362535    32.32\n",
      "Name: SALES_VALUE, Length: 276484, dtype: float64\n"
     ]
    }
   ],
   "source": [
    "Total_sales_per_basket = Reading_data_transaction.groupby('BASKET_ID')['SALES_VALUE'].sum()\n",
    "print(avg_sales_per_basket)\n",
    "'''It is important to know how much each household is spending per transaction or per Basket, as we can later on build upon this to more granular analysis by demographics and product data'''\n"
   ],
   "metadata": {
    "collapsed": false,
    "ExecuteTime": {
     "end_time": "2023-12-23T14:51:12.359243200Z",
     "start_time": "2023-12-23T14:51:12.195415900Z"
    }
   },
   "id": "3ba241ea0b7b0883"
  },
  {
   "cell_type": "code",
   "execution_count": null,
   "outputs": [],
   "source": [
    "import matplotlib.pyplot as plt\n",
    "import seaborn as sns\n",
    "\n",
    "# Visualising the distribution of sales values\n",
    "sns.histplot(Reading_data_transaction['SALES_VALUE'], kde=True)\n",
    "plt.title('Distribution of Sales Value')\n",
    "plt.show()\n"
   ],
   "metadata": {
    "collapsed": false
   },
   "id": "eaa86f6702434c72"
  },
  {
   "cell_type": "code",
   "execution_count": 5,
   "outputs": [
    {
     "name": "stdout",
     "output_type": "stream",
     "text": [
      "INCOME_DESC\n",
      "100-124K      201543.17\n",
      "125-149K      300658.10\n",
      "15-24K        303187.20\n",
      "150-174K      251845.22\n",
      "175-199K       94033.09\n",
      "200-249K       28632.43\n",
      "25-34K        380231.38\n",
      "250K+         118688.90\n",
      "35-49K        825945.47\n",
      "50-74K       1094852.10\n",
      "75-99K        558962.90\n",
      "Under 15K     339136.30\n",
      "Name: SALES_VALUE, dtype: float64\n"
     ]
    }
   ],
   "source": [
    "demographic_df = pd.read_csv('hh_demographic.csv')\n",
    "merged = demographic_df.merge(Reading_data_transaction, on='household_key') \n",
    "\n",
    "spend_by_income = merged.groupby('INCOME_DESC')[ 'SALES_VALUE'].sum()\n",
    "print(spend_by_income)\n",
    "'''This is like a join in sql, so we can merge 2 datasets based on the household_key column. \n",
    "Then we added all the sales values of each household based on the income column'''\n"
   ],
   "metadata": {
    "collapsed": false,
    "ExecuteTime": {
     "end_time": "2023-12-23T13:03:08.253442Z",
     "start_time": "2023-12-23T13:03:07.257009200Z"
    }
   },
   "id": "ece12439f4f99a87"
  },
  {
   "cell_type": "code",
   "execution_count": null,
   "outputs": [],
   "source": [],
   "metadata": {
    "collapsed": false
   },
   "id": "24468ac733a7155f"
  },
  {
   "cell_type": "code",
   "execution_count": 8,
   "outputs": [
    {
     "name": "stdout",
     "output_type": "stream",
     "text": [
      "INCOME_DESC\n",
      "100-124K      34\n",
      "125-149K      38\n",
      "15-24K        74\n",
      "150-174K      30\n",
      "175-199K      11\n",
      "200-249K       5\n",
      "25-34K        77\n",
      "250K+         11\n",
      "35-49K       172\n",
      "50-74K       192\n",
      "75-99K        96\n",
      "Under 15K     61\n",
      "Name: household_key, dtype: int64\n"
     ]
    }
   ],
   "source": [
    "household_counts = merged.groupby('INCOME_DESC')['household_key'].nunique()\n",
    "print((household_counts))\n",
    "'''No of unique household_keys we have got the demographic data for. this is important to find out the most valuable customers'''"
   ],
   "metadata": {
    "collapsed": false,
    "ExecuteTime": {
     "end_time": "2023-12-23T13:11:22.172891100Z",
     "start_time": "2023-12-23T13:11:22.088059Z"
    }
   },
   "id": "e4e002968d148797"
  },
  {
   "cell_type": "code",
   "execution_count": 14,
   "outputs": [
    {
     "data": {
      "text/plain": "<Figure size 640x480 with 1 Axes>",
      "image/png": "[encoded data removed]"
     },
     "metadata": {},
     "output_type": "display_data"
    }
   ],
   "source": [
    "import matplotlib.pyplot as plt\n",
    "\n",
    "household_counts.plot(kind='bar')\n",
    "plt.title('Households by Income Description')\n",
    "plt.xlabel('Income Description')\n",
    "plt.ylabel('Household Count')\n",
    "plt.show()\n",
    "#This gives us a bar graph that displays the household_count by income description"
   ],
   "metadata": {
    "collapsed": false,
    "ExecuteTime": {
     "end_time": "2023-12-23T15:18:15.939263700Z",
     "start_time": "2023-12-23T15:18:15.702376400Z"
    }
   },
   "id": "f530595db307133e"
  },
  {
   "cell_type": "code",
   "execution_count": 11,
   "outputs": [
    {
     "data": {
      "text/plain": "<Figure size 640x480 with 1 Axes>",
      "image/png": "[encoded data removed]"
     },
     "metadata": {},
     "output_type": "display_data"
    }
   ],
   "source": [
    "# Count transactions by income description\n",
    "txns_by_income = merged.groupby('INCOME_DESC')['household_key'].count() \n",
    "\n",
    "# Plot bar chart\n",
    "import matplotlib.pyplot as plt\n",
    "txns_by_income.plot(kind='bar')\n",
    "plt.title('Transactions by Income Description')\n",
    "plt.xlabel('Income Description') \n",
    "plt.ylabel('Number of Transactions')\n",
    "plt.show()\n"
   ],
   "metadata": {
    "collapsed": false,
    "ExecuteTime": {
     "end_time": "2023-12-23T13:36:16.393117400Z",
     "start_time": "2023-12-23T13:36:16.009044600Z"
    }
   },
   "id": "25e233f8c238cb39"
  },
  {
   "cell_type": "code",
   "execution_count": 18,
   "outputs": [],
   "source": [
    "merged = Reading_data_transaction.merge(Reading_data_transaction_prod, on='PRODUCT_ID')\n"
   ],
   "metadata": {
    "collapsed": false,
    "ExecuteTime": {
     "end_time": "2023-12-24T18:21:00.162386Z",
     "start_time": "2023-12-24T18:20:59.387194300Z"
    }
   },
   "id": "19331fad97bb054"
  },
  {
   "cell_type": "code",
   "execution_count": 19,
   "outputs": [],
   "source": [
    "sales_by_category = merged.groupby('COMMODITY_DESC')['SALES_VALUE'].sum()\n"
   ],
   "metadata": {
    "collapsed": false,
    "ExecuteTime": {
     "end_time": "2023-12-24T18:21:26.299783100Z",
     "start_time": "2023-12-24T18:21:26.169642700Z"
    }
   },
   "id": "133cf329a43370d8"
  },
  {
   "cell_type": "code",
   "execution_count": 33,
   "outputs": [],
   "source": [],
   "metadata": {
    "collapsed": false,
    "ExecuteTime": {
     "end_time": "2023-12-24T20:54:22.696796200Z",
     "start_time": "2023-12-24T20:54:22.671919700Z"
    }
   },
   "id": "2415a349b422c6a6"
  },
  {
   "cell_type": "code",
   "execution_count": 32,
   "outputs": [],
   "source": [
    "top5 = (merged\n",
    "   .groupby('DEPARTMENT')['SALES_VALUE']\n",
    "   .sum()\n",
    "   .sort_values(ascending=False)\n",
    "   .head(10)\n",
    ")\n"
   ],
   "metadata": {
    "collapsed": false,
    "ExecuteTime": {
     "end_time": "2023-12-24T20:33:53.748550600Z",
     "start_time": "2023-12-24T20:33:53.412489600Z"
    }
   },
   "id": "6ad60e4b7d38f623"
  },
  {
   "cell_type": "code",
   "execution_count": 33,
   "outputs": [
    {
     "name": "stdout",
     "output_type": "stream",
     "text": [
      "DEPARTMENT\n",
      "GROCERY            4093814.14\n",
      "DRUG GM            1055358.03\n",
      "PRODUCE             557452.11\n",
      "MEAT                548786.81\n",
      "KIOSK-GAS           544222.28\n",
      "MEAT-PCKGD          412436.77\n",
      "DELI                260866.51\n",
      "PASTRY              121739.86\n",
      "MISC SALES TRAN     119960.04\n",
      "NUTRITION            97669.04\n",
      "Name: SALES_VALUE, dtype: float64\n"
     ]
    }
   ],
   "source": [
    "print(top5)"
   ],
   "metadata": {
    "collapsed": false,
    "ExecuteTime": {
     "end_time": "2023-12-24T20:33:56.343990300Z",
     "start_time": "2023-12-24T20:33:56.295352900Z"
    }
   },
   "id": "cc4a8363a6deb6bd"
  },
  {
   "cell_type": "code",
   "execution_count": null,
   "outputs": [],
   "source": [],
   "metadata": {
    "collapsed": false
   },
   "id": "a6b32422b966cbd1"
  }
 ],
 "metadata": {
  "kernelspec": {
   "display_name": "Python 3",
   "language": "python",
   "name": "python3"
  },
  "language_info": {
   "codemirror_mode": {
    "name": "ipython",
    "version": 2
   },
   "file_extension": ".py",
   "mimetype": "text/x-python",
   "name": "python",
   "nbconvert_exporter": "python",
   "pygments_lexer": "ipython2",
   "version": "2.7.6"
  }
 },
 "nbformat": 4,
 "nbformat_minor": 5
}
