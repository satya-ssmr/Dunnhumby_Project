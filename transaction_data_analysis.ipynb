{
 "cells": [
  {
   "cell_type": "code",
   "execution_count": 1,
   "id": "initial_id",
   "metadata": {
    "collapsed": true,
    "ExecuteTime": {
     "end_time": "2023-12-19T19:01:25.421207300Z",
     "start_time": "2023-12-19T19:01:23.716740900Z"
    }
   },
   "outputs": [
    {
     "name": "stdout",
     "output_type": "stream",
     "text": [
      "  AGE_DESC MARITAL_STATUS_CODE INCOME_DESC HOMEOWNER_DESC      HH_COMP_DESC  \\\n",
      "0      65+                   A      35-49K      Homeowner  2 Adults No Kids   \n",
      "1    45-54                   A      50-74K      Homeowner  2 Adults No Kids   \n",
      "2    25-34                   U      25-34K        Unknown     2 Adults Kids   \n",
      "3    25-34                   U      75-99K      Homeowner     2 Adults Kids   \n",
      "4    45-54                   B      50-74K      Homeowner     Single Female   \n",
      "\n",
      "  HOUSEHOLD_SIZE_DESC KID_CATEGORY_DESC  household_key  \n",
      "0                   2      None/Unknown              1  \n",
      "1                   2      None/Unknown              7  \n",
      "2                   3                 1              8  \n",
      "3                   4                 2             13  \n",
      "4                   1      None/Unknown             16  \n",
      "<class 'pandas.core.frame.DataFrame'>\n",
      "RangeIndex: 2595732 entries, 0 to 2595731\n",
      "Data columns (total 12 columns):\n",
      " #   Column             Dtype  \n",
      "---  ------             -----  \n",
      " 0   household_key      int64  \n",
      " 1   BASKET_ID          int64  \n",
      " 2   DAY                int64  \n",
      " 3   PRODUCT_ID         int64  \n",
      " 4   QUANTITY           int64  \n",
      " 5   SALES_VALUE        float64\n",
      " 6   STORE_ID           int64  \n",
      " 7   RETAIL_DISC        float64\n",
      " 8   TRANS_TIME         int64  \n",
      " 9   WEEK_NO            int64  \n",
      " 10  COUPON_DISC        float64\n",
      " 11  COUPON_MATCH_DISC  float64\n",
      "dtypes: float64(4), int64(8)\n",
      "memory usage: 237.6 MB\n",
      "None\n",
      "   household_key    BASKET_ID  DAY  PRODUCT_ID  QUANTITY  SALES_VALUE  \\\n",
      "0           2375  26984851472    1     1004906         1         1.39   \n",
      "1           2375  26984851472    1     1033142         1         0.82   \n",
      "2           2375  26984851472    1     1036325         1         0.99   \n",
      "3           2375  26984851472    1     1082185         1         1.21   \n",
      "4           2375  26984851472    1     8160430         1         1.50   \n",
      "\n",
      "   STORE_ID  RETAIL_DISC  TRANS_TIME  WEEK_NO  COUPON_DISC  COUPON_MATCH_DISC  \n",
      "0       364        -0.60        1631        1          0.0                0.0  \n",
      "1       364         0.00        1631        1          0.0                0.0  \n",
      "2       364        -0.30        1631        1          0.0                0.0  \n",
      "3       364         0.00        1631        1          0.0                0.0  \n",
      "4       364        -0.39        1631        1          0.0                0.0  \n"
     ]
    }
   ],
   "source": [
    "import pandas as pd\n",
    "Reading_data_transaction = pd.read_csv('transaction_data.csv')\n",
    "Reading_data_transaction_demo = pd.read_csv('hh_demographic.csv')\n",
    "print(Reading_data_transaction_demo.head())\n",
    "print(Reading_data_transaction.info()) #Gives the information about the datatypes and missing values\n",
    "print(Reading_data_transaction.head()) #Top 5 rows view of the data"
   ]
  },
  {
   "cell_type": "code",
   "execution_count": null,
   "outputs": [],
   "source": [],
   "metadata": {
    "collapsed": false
   },
   "id": "3ba241ea0b7b0883"
  }
 ],
 "metadata": {
  "kernelspec": {
   "display_name": "Python 3",
   "language": "python",
   "name": "python3"
  },
  "language_info": {
   "codemirror_mode": {
    "name": "ipython",
    "version": 2
   },
   "file_extension": ".py",
   "mimetype": "text/x-python",
   "name": "python",
   "nbconvert_exporter": "python",
   "pygments_lexer": "ipython2",
   "version": "2.7.6"
  }
 },
 "nbformat": 4,
 "nbformat_minor": 5
}
